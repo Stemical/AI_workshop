{
  "nbformat": 4,
  "nbformat_minor": 0,
  "metadata": {
    "colab": {
      "provenance": []
    },
    "kernelspec": {
      "name": "python3",
      "display_name": "Python 3"
    },
    "language_info": {
      "name": "python"
    }
  },
  "cells": [
    {
      "cell_type": "code",
      "metadata": {
        "id": "a75d66d5"
      },
      "source": [
        "%pip install boruta"
      ],
      "execution_count": null,
      "outputs": []
    },
    {
      "cell_type": "code",
      "execution_count": null,
      "metadata": {
        "id": "Rn0cVp-SOhw3"
      },
      "outputs": [],
      "source": [
        "'''\n",
        " -----------------------------------------------------------\n",
        "          Artificial Intelligence Workshop RUG\n",
        " -----------------------------------------------------------\n",
        "            R.M. (Rolando) Gonzales Martinez\n",
        " -----------------------------------------------------------\n",
        " ~~~~~~~ Credit scoring model with Machine Learning ~~~~~~~~\n",
        "             Feature Selection with Boruta\n",
        " -----------------------------------------------------------\n",
        "'''\n",
        "import pandas as pd\n",
        "df = pd.read_excel(\"bankloans.xlsx\")\n",
        "print(df.head())\n",
        "# age: Age in years\n",
        "# education: Level of education, (1) did not complete high school, (2) high school degree, (3) some college, (4) college degree, (5) postundergraduate degree\n",
        "# employears: Years with current employer\n",
        "# address: Years at current address\n",
        "# salary: salary in thousands\n",
        "# creddebt: Credit card debt in thousands\n",
        "# othdebt: Other debt in thousands\n",
        "# default: credit default"
      ]
    },
    {
      "cell_type": "code",
      "source": [
        "# Feature selection with Boruta\n",
        "from sklearn.ensemble import RandomForestClassifier\n",
        "from sklearn.preprocessing import OneHotEncoder\n",
        "from sklearn.impute import SimpleImputer\n",
        "from boruta import BorutaPy\n",
        "\n",
        "# Define features and target\n",
        "numerical_cols = ['age', 'employears', 'salary', 'creddebt','othdebt']\n",
        "categorical_cols = ['education']\n",
        "target_col = 'default'\n",
        "\n",
        "# Separate features and target\n",
        "X = df[numerical_cols + categorical_cols]\n",
        "y = df[target_col].astype(int)\n",
        "\n",
        "# Impute numerical columns\n",
        "num_imputer = SimpleImputer(strategy='mean')\n",
        "X_num = num_imputer.fit_transform(X[numerical_cols])\n",
        "\n",
        "# Impute and encode categorical columns\n",
        "cat_imputer = SimpleImputer(strategy='most_frequent')\n",
        "X_cat_imputed = cat_imputer.fit_transform(X[categorical_cols])\n",
        "\n",
        "encoder = OneHotEncoder(drop='if_binary', sparse_output=False)\n",
        "X_cat = encoder.fit_transform(X_cat_imputed)\n",
        "\n",
        "# Combine numerical and categorical\n",
        "import numpy as np\n",
        "X_processed = np.hstack([X_num, X_cat])\n",
        "\n",
        "# Fit Boruta\n",
        "forest = RandomForestClassifier(n_estimators=100, random_state=, class_weight='balanced')\n",
        "boruta = BorutaPy(estimator=forest, n_estimators='auto', random_state=0)\n",
        "boruta.fit(X_processed, y)\n",
        "\n",
        "# Get feature names\n",
        "cat_feature_names = encoder.get_feature_names_out(categorical_cols)\n",
        "feature_names = numerical_cols + list(cat_feature_names)\n",
        "\n",
        "# Select important features\n",
        "selected_features = [feature for feature, support in zip(feature_names, boruta.support_) if support]\n",
        "\n",
        "# Get feature names and flags\n",
        "cat_feature_names = encoder.get_feature_names_out(categorical_cols)\n",
        "feature_names = numerical_cols + list(cat_feature_names)\n",
        "boruta_result_df = pd.DataFrame({\n",
        "    \"Feature\": feature_names,\n",
        "    \"Selected\": boruta.support_,\n",
        "    \"Tentative\": boruta.support_weak_,\n",
        "    \"Ranking\": boruta.ranking_\n",
        "})\n",
        "\n",
        "boruta_result_df"
      ],
      "metadata": {
        "id": "EKqIrkHrPmva"
      },
      "execution_count": null,
      "outputs": []
    }
  ]
}